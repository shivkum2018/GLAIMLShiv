{
  "nbformat": 4,
  "nbformat_minor": 0,
  "metadata": {
    "colab": {
      "name": "Copy of M1E6_Perceptron_CIFAR10.ipynb",
      "version": "0.3.2",
      "provenance": [],
      "collapsed_sections": [],
      "include_colab_link": true
    },
    "kernelspec": {
      "display_name": "Python 3",
      "language": "python",
      "name": "python3"
    }
  },
  "cells": [
    {
      "cell_type": "markdown",
      "metadata": {
        "id": "view-in-github",
        "colab_type": "text"
      },
      "source": [
        "<a href=\"https://colab.research.google.com/github/shivkum2018/GLAIMLShiv/blob/master/Copy_of_M1E6_Perceptron_CIFAR10.ipynb\" target=\"_parent\"><img src=\"https://colab.research.google.com/assets/colab-badge.svg\" alt=\"Open In Colab\"/></a>"
      ]
    },
    {
      "metadata": {
        "colab_type": "text",
        "id": "8WHMLNMNe6pw"
      },
      "cell_type": "markdown",
      "source": [
        "# Advanced Certification in AIML\n",
        "## A Program by IIIT-H and TalentSprint"
      ]
    },
    {
      "metadata": {
        "id": "nZr4x8IBgUDQ",
        "colab_type": "text"
      },
      "cell_type": "markdown",
      "source": [
        "## Learning Objectives"
      ]
    },
    {
      "metadata": {
        "colab_type": "text",
        "id": "LBCh8QQPe6py"
      },
      "cell_type": "markdown",
      "source": [
        "\n",
        "At the end of the experiment, you will be able to:\n",
        "- Understand CIFAR-10 dataset\n",
        "- Experiment using perceptron algorithm\n",
        "- Understand the effect of different features on binary classification "
      ]
    },
    {
      "metadata": {
        "id": "ejcxvLCWqa3B",
        "colab_type": "code",
        "cellView": "form",
        "outputId": "3dacf323-1d40-4d01-debe-f12aef89c329",
        "colab": {
          "base_uri": "https://localhost:8080/",
          "height": 261
        }
      },
      "cell_type": "code",
      "source": [
        "#@title Experiment Walkthrough\n",
        "#@markdown Linear Classifier\n",
        "from IPython.display import HTML\n",
        "\n",
        "HTML(\"\"\"<video width=\"420\" height=\"240\" controls>\n",
        "  <source src=\"https://cdn.talentsprint.com/aiml/AIML_BATCH_HYD_7/JAN20/linear_classifier_experiment.mp4\" type=\"video/mp4\">\n",
        "</video>\n",
        "\"\"\")"
      ],
      "execution_count": 0,
      "outputs": [
        {
          "output_type": "execute_result",
          "data": {
            "text/html": [
              "<video width=\"420\" height=\"240\" controls>\n",
              "  <source src=\"https://cdn.talentsprint.com/aiml/AIML_BATCH_HYD_7/JAN20/linear_classifier_experiment.mp4\" type=\"video/mp4\">\n",
              "</video>\n"
            ],
            "text/plain": [
              "<IPython.core.display.HTML object>"
            ]
          },
          "metadata": {
            "tags": []
          },
          "execution_count": 1
        }
      ]
    },
    {
      "metadata": {
        "id": "2NiLPMhPgYFa",
        "colab_type": "text"
      },
      "cell_type": "markdown",
      "source": [
        "## Dataset"
      ]
    },
    {
      "metadata": {
        "id": "e9CxCComgihL",
        "colab_type": "text"
      },
      "cell_type": "markdown",
      "source": [
        "#### Description"
      ]
    },
    {
      "metadata": {
        "colab_type": "text",
        "id": "S0k4a9Qbe6p1"
      },
      "cell_type": "markdown",
      "source": [
        "In this experiment, we will use the CIFAR-10 dataset consists of 60,000 32x32 colour images in 10 classes, with 6000 images per class. There are 50,000 training images and 10,000 test images.\n",
        "\n",
        "They are in a particular python-specific format called pickle. You need not worry about the format's internals, as the site has given the code needed to read such files. The code is given in the first code block below.\n",
        "\n",
        "**The code returns the contents of each data file as a dictionary**."
      ]
    },
    {
      "metadata": {
        "colab_type": "text",
        "id": "DL8erXHHe6p2"
      },
      "cell_type": "markdown",
      "source": [
        "There are 8 files in the cifar-10 directory.\n",
        "\n",
        "    1. batches.meta\n",
        "\n",
        "    2. data_batch_1\n",
        "\n",
        "    3. data_batch_2\t\n",
        "\n",
        "    4. data_batch_3\n",
        "\n",
        "    5. data_batch_4\t\n",
        "\n",
        "    6. data_batch_5\n",
        "\n",
        "    7. readme.html\n",
        "\n",
        "    8. test_batch\n",
        "\n",
        "We will take a peek at these files.\n",
        "\n",
        "Getting into details of this dataset :\n",
        "\n",
        "**data** : A 50,000x3072 numpy array of uints. Each row of the array stores a 32x32 colour image. The first 1024 entries contain the red channel values, the next 1024 the green, and the final 1024 the blue. The image is stored in row-major order, so that the first 32 entries of the array are the red channel values of the first row of the image.\n",
        "\n",
        "**labels** : A list of 50,000 numbers in the range 0-9. The number at index i indicates the label of the ith image in the array data.\n",
        "\n"
      ]
    },
    {
      "metadata": {
        "colab_type": "text",
        "id": "ecPwLon_e6p4"
      },
      "cell_type": "markdown",
      "source": [
        "### DataSource\n",
        "\n",
        "https://www.cs.toronto.edu/~kriz/cifar.html"
      ]
    },
    {
      "metadata": {
        "colab_type": "text",
        "id": "M9Mdrhr8e6p4"
      },
      "cell_type": "markdown",
      "source": [
        "#### Perceptron\n",
        "\n",
        "It is the simplest form of artificial neural network, i.e., single-layer perceptron. A perceptron is an artificial neuron conceived as a model of biological neurons, which are the elementary units in an artificial neural network.\n",
        "\n",
        "An artificial neuron is a linear combination of certain (one or more) inputs and a corresponding weight vector. "
      ]
    },
    {
      "metadata": {
        "id": "P2TBUL_gg4dC",
        "colab_type": "text"
      },
      "cell_type": "markdown",
      "source": [
        "## Keywords\n",
        "\n"
      ]
    },
    {
      "metadata": {
        "id": "nzykwcRXg6L-",
        "colab_type": "text"
      },
      "cell_type": "markdown",
      "source": [
        "*   Perceptron\n",
        "*   Stochastic Gradient Descent\n",
        "*   Binary Classification\n",
        "* PCA\n",
        "* Raw features\n",
        "* Deep features\n",
        "* Hand-crafted features"
      ]
    },
    {
      "metadata": {
        "colab_type": "text",
        "id": "jYSSCRSwfOBb"
      },
      "cell_type": "markdown",
      "source": [
        "### Setup Steps"
      ]
    },
    {
      "metadata": {
        "colab_type": "code",
        "id": "NndaoF0mfQ0b",
        "colab": {}
      },
      "cell_type": "code",
      "source": [
        "#@title Please enter your registration id to start: (e.g. P181900101) { run: \"auto\", display-mode: \"form\" }\n",
        "Id = \"P181901927\" #@param {type:\"string\"}\n"
      ],
      "execution_count": 0,
      "outputs": []
    },
    {
      "metadata": {
        "colab_type": "code",
        "id": "iP84uluWfS0m",
        "colab": {}
      },
      "cell_type": "code",
      "source": [
        "#@title Please enter your password (normally your phone number) to continue: { run: \"auto\", display-mode: \"form\" }\n",
        "password = \"9840545135\" #@param {type:\"string\"}\n"
      ],
      "execution_count": 0,
      "outputs": []
    },
    {
      "metadata": {
        "id": "GpO9pPm3loI6",
        "colab_type": "code",
        "cellView": "form",
        "outputId": "b221ec43-9583-4b96-a39e-b28a7c85f503",
        "colab": {
          "base_uri": "https://localhost:8080/",
          "height": 34
        }
      },
      "cell_type": "code",
      "source": [
        "#@title Run this cell to complete the setup for this Notebook\n",
        "\n",
        "from IPython import get_ipython\n",
        "ipython = get_ipython()\n",
        "  \n",
        "notebook=\"M1E6_Perceptron_CIFAR10\" #name of the notebook\n",
        "\n",
        "def setup():\n",
        "#  ipython.magic(\"sx pip3 install torch\")\n",
        "    ipython.magic(\"sx wget https://cdn.talentsprint.com/aiml/Experiment_related_data/week3/Exp3/AIML_DS_CIFAR-10_STD.zip\")\n",
        "    ipython.magic(\"sx unzip AIML_DS_CIFAR-10_STD.zip\")\n",
        "    print (\"Setup completed successfully\")\n",
        "    return\n",
        "\n",
        "def submit_notebook():\n",
        "    \n",
        "    ipython.magic(\"notebook -e \"+ notebook + \".ipynb\")\n",
        "    \n",
        "    import requests, json, base64, datetime\n",
        "\n",
        "    url = \"https://dashboard.talentsprint.com/xp/app/save_notebook_attempts\"\n",
        "    if not submission_id:\n",
        "      data = {\"id\" : getId(), \"notebook\" : notebook, \"mobile\" : getPassword()}\n",
        "      r = requests.post(url, data = data)\n",
        "      r = json.loads(r.text)\n",
        "\n",
        "      if r[\"status\"] == \"Success\":\n",
        "          return r[\"record_id\"]\n",
        "      elif \"err\" in r:        \n",
        "        print(r[\"err\"])\n",
        "        return None        \n",
        "      else:\n",
        "        print (\"Something is wrong, the notebook will not be submitted for grading\")\n",
        "        return None\n",
        "\n",
        "    elif getAnswer() and getComplexity() and getAdditional() and getConcepts():\n",
        "      f = open(notebook + \".ipynb\", \"rb\")\n",
        "      file_hash = base64.b64encode(f.read())\n",
        "\n",
        "      data = {\"complexity\" : Complexity, \"additional\" :Additional, \n",
        "              \"concepts\" : Concepts, \"record_id\" : submission_id, \n",
        "              \"answer\" : Answer, \"id\" : Id, \"file_hash\" : file_hash,\n",
        "              \"notebook\" : notebook}\n",
        "\n",
        "      r = requests.post(url, data = data)\n",
        "      r = json.loads(r.text)\n",
        "      print(\"Your submission is successful.\")\n",
        "      print(\"Ref Id:\", submission_id)\n",
        "      print(\"Date of submission: \", r[\"date\"])\n",
        "      print(\"Time of submission: \", r[\"time\"])\n",
        "      print(\"View your submissions: https://iiith-aiml.talentsprint.com/notebook_submissions\")\n",
        "      print(\"For any queries/discrepancies, please connect with mentors through the chat icon in LMS dashboard.\")\n",
        "      return submission_id\n",
        "    else: submission_id\n",
        "    \n",
        "\n",
        "def getAdditional():\n",
        "  try:\n",
        "    if Additional: return Additional      \n",
        "    else: raise NameError('')\n",
        "  except NameError:\n",
        "    print (\"Please answer Additional Question\")\n",
        "    return None\n",
        "\n",
        "def getComplexity():\n",
        "  try:\n",
        "    return Complexity\n",
        "  except NameError:\n",
        "    print (\"Please answer Complexity Question\")\n",
        "    return None\n",
        "  \n",
        "def getConcepts():\n",
        "  try:\n",
        "    return Concepts\n",
        "  except NameError:\n",
        "    print (\"Please answer Concepts Question\")\n",
        "    return None\n",
        "\n",
        "def getAnswer():\n",
        "  try:\n",
        "    return Answer\n",
        "  except NameError:\n",
        "    print (\"Please answer Question\")\n",
        "    return None\n",
        "\n",
        "def getId():\n",
        "  try: \n",
        "    return Id if Id else None\n",
        "  except NameError:\n",
        "    return None\n",
        "\n",
        "def getPassword():\n",
        "  try:\n",
        "    return password if password else None\n",
        "  except NameError:\n",
        "    return None\n",
        "\n",
        "submission_id = None\n",
        "### Setup \n",
        "if getPassword() and getId():\n",
        "  submission_id = submit_notebook()\n",
        "  if submission_id:\n",
        "    setup()\n",
        "  \n",
        "else:\n",
        "  print (\"Please complete Id and Password cells before running setup\")\n",
        "\n"
      ],
      "execution_count": 0,
      "outputs": [
        {
          "output_type": "stream",
          "text": [
            "Setup completed successfully\n"
          ],
          "name": "stdout"
        }
      ]
    },
    {
      "metadata": {
        "colab_type": "text",
        "id": "-60ux8L8gPYb"
      },
      "cell_type": "markdown",
      "source": [
        "### Expected time to complete experiment is 60 min"
      ]
    },
    {
      "metadata": {
        "colab_type": "text",
        "id": "WslOzi5Te6p5"
      },
      "cell_type": "markdown",
      "source": [
        "#### Binary Class Classification"
      ]
    },
    {
      "metadata": {
        "colab_type": "code",
        "id": "9cmlHxf-e6p7",
        "colab": {}
      },
      "cell_type": "code",
      "source": [
        "# Importing required packages\n",
        "import numpy as np\n",
        "import matplotlib.pyplot as plt\n",
        "import os\n",
        "import scipy.io as sio\n",
        "import itertools\n",
        "import operator\n",
        "import random\n",
        "import collections\n",
        "from scipy import stats\n",
        "from sklearn.metrics import accuracy_score"
      ],
      "execution_count": 0,
      "outputs": []
    },
    {
      "metadata": {
        "colab_type": "code",
        "id": "Q4qKDf-ee6qA",
        "colab": {}
      },
      "cell_type": "code",
      "source": [
        "# Special function to read special files\n",
        "def unpickle(file):\n",
        "    import pickle\n",
        "    with open(file, 'rb') as fo:\n",
        "        dict = pickle.load(fo, encoding='latin1')\n",
        "    return dict"
      ],
      "execution_count": 0,
      "outputs": []
    },
    {
      "metadata": {
        "colab_type": "text",
        "id": "706Q4tnBe6qE"
      },
      "cell_type": "markdown",
      "source": [
        "### Visualizing the images in CIFAR-10 Dataset\n"
      ]
    },
    {
      "metadata": {
        "colab_type": "code",
        "id": "ONBuR6rLe6qG",
        "colab": {}
      },
      "cell_type": "code",
      "source": [
        "# Function to load the data\n",
        "def get_data(file):\n",
        "    dict = unpickle(file)\n",
        "    X = np.asarray(dict['data']).astype(\"uint8\")\n",
        "    Y = np.asarray(dict['labels'])\n",
        "    names = np.asarray(dict['filenames'])\n",
        "    list_class=(unpickle(\"AIML_DS_CIFAR-10_STD/batches.meta\")['label_names'])\n",
        "    return X,Y,names,list_class\n",
        "                     \n",
        "# Function to visualize the data\n",
        "\n",
        "def visualize_image(X, Y, names, image_id):\n",
        "    rgb = X[image_id,:]\n",
        "    img = rgb.reshape(3, 32, 32).transpose([1, 2, 0])\n",
        "    print(img.shape)\n",
        "    plt.grid(False)\n",
        "    plt.imshow(img)\n",
        "    plt.title(names[image_id])\n",
        "    plt.show()"
      ],
      "execution_count": 0,
      "outputs": []
    },
    {
      "metadata": {
        "colab_type": "code",
        "id": "omWvcXvae6qL",
        "outputId": "eaa688d0-0f4b-4225-e6be-c1ad8e5cabdd",
        "colab": {
          "base_uri": "https://localhost:8080/",
          "height": 396
        }
      },
      "cell_type": "code",
      "source": [
        "# Read image\n",
        "X, Y, names, classes = get_data(\"AIML_DS_CIFAR-10_STD/data_batch_3\")\n",
        "# Visualize the 10th image\n",
        "pick = 10\n",
        "print(\"Class =\",classes[Y[pick]])\n",
        "visualize_image(X, Y, names, pick)"
      ],
      "execution_count": 0,
      "outputs": [
        {
          "output_type": "stream",
          "text": [
            "Class = horse\n",
            "(32, 32, 3)\n"
          ],
          "name": "stdout"
        },
        {
          "output_type": "display_data",
          "data": {
            "image/png": "[encoded data removed]",
            "text/plain": [
              "<Figure size 576x396 with 1 Axes>"
            ]
          },
          "metadata": {
            "tags": []
          }
        }
      ]
    },
    {
      "metadata": {
        "colab_type": "text",
        "id": "8nN3Eacve6qV"
      },
      "cell_type": "markdown",
      "source": [
        "We shall run a linear classifier. You can look at the code that calculates weights for the optimal line in \"perceptron_sgd\"."
      ]
    },
    {
      "metadata": {
        "colab_type": "text",
        "id": "RXNRGTUMe6qW"
      },
      "cell_type": "markdown",
      "source": [
        "The perceptron is an algorithm for supervised learning of binary classifiers. It is an artificial neuron conceived as a model of biological neurons, which are the elementary units in an artificial neural network. An artificial neuron is a linear combination of certain (one or more) inputs and a corresponding weight vector."
      ]
    },
    {
      "metadata": {
        "colab_type": "code",
        "id": "CAy2u-Ffe6qX",
        "colab": {}
      },
      "cell_type": "code",
      "source": [
        "## Linear classifier code -\n",
        "# code to estimate optimal linear boundary,\n",
        "# classify train data by estimating the optimal linear boundary,\n",
        "# predict labels based on linear boundary,\n",
        "# and compute the accuracy of the classification\n",
        "\n",
        "# code to estimate optimal linear boundary (can ignore for now),\n",
        "def perceptron_sgd(X, Y):\n",
        "    w = np.zeros(len(X[0]))\n",
        "    eta = 0.01 # learning rate\n",
        "    epochs = 100\n",
        "    for t in range(epochs):\n",
        "        if (t+1) % 50 == 0:\n",
        "            print(\"Running Epoch #\", t+1)\n",
        "            # print(\"acc:\", compute_accuracy(predict(X[:, :-1], w), Y))\n",
        "        for i, x in enumerate(X):\n",
        "            if (np.dot(X[i], w) * Y[i]) <= 0:\n",
        "                w = w + eta * X[i] * Y[i]\n",
        "        eta *= 0.75\n",
        "    return w\n"
      ],
      "execution_count": 0,
      "outputs": []
    },
    {
      "metadata": {
        "colab_type": "code",
        "id": "jnRg86VIe6qb",
        "colab": {}
      },
      "cell_type": "code",
      "source": [
        "# classify train data by estimating the optimal linear boundary,\n",
        "def classify(train_feat, train_labels):\n",
        "    ## mapping first label to -1 and second to +1\n",
        "    labels = np.sort(np.unique(train_labels))\n",
        "    lmap = {labels[0] : -1, labels[1] : 1}\n",
        "    l = [lmap[i] for i in train_labels]     \n",
        "    ## appending 1 to train features\n",
        "    add_one2train = np.ones((len(train_feat), 1))\n",
        "    append_train_features = np.hstack((np.asarray(train_feat), add_one2train))\n",
        "    w = perceptron_sgd(append_train_features, l)\n",
        "    return w\n"
      ],
      "execution_count": 0,
      "outputs": []
    },
    {
      "metadata": {
        "colab_type": "code",
        "id": "lJwIpFLhe6qd",
        "colab": {}
      },
      "cell_type": "code",
      "source": [
        "# predict labels based on linear boundary,\n",
        "def predict(features, w):\n",
        "    ##appending 1 to test features\n",
        "    add_one = np.ones((len(features),1))\n",
        "    append_features = np.hstack((np.asarray(features), add_one))\n",
        "    pred = np.dot(append_features, w)\n",
        "    return pred"
      ],
      "execution_count": 0,
      "outputs": []
    },
    {
      "metadata": {
        "colab_type": "code",
        "id": "msz0wMNRe6qi",
        "colab": {}
      },
      "cell_type": "code",
      "source": [
        "\n",
        "# compute the accuracy of the classification\n",
        "def compute_accuracy(pred, test_labels):\n",
        "    # To make it general, let us find the unique set of labels in test_labels\n",
        "    # (could be \"apples\" and \"oranges\", or \"1\" and \"2\"),\n",
        "    labels = np.sort(np.unique(test_labels))\n",
        "    # and then assign -1 and 1 to these unique labels\n",
        "    lmap = {labels[0] : -1, labels[1] : 1}\n",
        "    # Let's now convert the labels to -1 and 1\n",
        "    l = [lmap[i] for i in test_labels]\n",
        "    # Let us find the accuracy\n",
        "    p = []\n",
        "    for i in range(len(pred)):\n",
        "        p.append(1 if pred[i] >= 0 else -1)\n",
        "    acc = np.mean(np.asarray(p) == np.asarray(l))\n",
        "    return acc"
      ],
      "execution_count": 0,
      "outputs": []
    },
    {
      "metadata": {
        "colab_type": "code",
        "id": "eOKjt1Lpe6qm",
        "colab": {}
      },
      "cell_type": "code",
      "source": [
        "# Function for binary classification\n",
        "def one_vs_one_classifier_ours(train_features, train_labels):\n",
        "    w = classify(train_features, train_labels)\n",
        "    return w\n",
        "\n",
        "def calc_accuracy(X_test, Y_test, w):\n",
        "    pred = predict(X_test, w)\n",
        "    accuracy = compute_accuracy(pred, Y_test)\n",
        "    print(\"accuracy =\", accuracy)"
      ],
      "execution_count": 0,
      "outputs": []
    },
    {
      "metadata": {
        "colab_type": "text",
        "id": "rxGfZ3R7e6qp"
      },
      "cell_type": "markdown",
      "source": [
        "### Feature type 1: Raw Intensity values of RGB \n",
        "Use Intensity values of RGB as intensity features. For this use the raw intensity features extracted above."
      ]
    },
    {
      "metadata": {
        "colab_type": "code",
        "id": "AsRkIdoCe6qq",
        "colab": {}
      },
      "cell_type": "code",
      "source": [
        "## Unpickling the data and labels from CIFAR-10 Dataset,\n",
        "## and Preparing the raw features for training and test data.\n",
        "\n",
        "X_train = []\n",
        "Y_train = []\n",
        "# Read all training features and labels\n",
        "for j in \"12345\": \n",
        "    batch_file = 'AIML_DS_CIFAR-10_STD/data_batch_'+ j\n",
        "    x_train, y_train, names_train, classes_train = get_data(batch_file)\n",
        "    X_train.extend(x_train)\n",
        "    Y_train.extend(y_train)\n",
        "\n",
        "X_train = np.asarray(X_train)\n",
        "Y_train = np.asarray(Y_train)\n",
        "\n",
        "# Read all test features and labels\n",
        "X_test, Y_test, names_test, classes_test = get_data(\"AIML_DS_CIFAR-10_STD/test_batch\")"
      ],
      "execution_count": 0,
      "outputs": []
    },
    {
      "metadata": {
        "colab_type": "text",
        "id": "arAoiY0Pe6qu"
      },
      "cell_type": "markdown",
      "source": [
        "Now, select only classes **5** and **7**, and make a linear classifier for these two classes. "
      ]
    },
    {
      "metadata": {
        "colab_type": "code",
        "id": "C-e1vf8Ze6qv",
        "colab": {}
      },
      "cell_type": "code",
      "source": [
        "# Function to extract the classes\n",
        "def extract_2classes(class0, class1, X, Y):\n",
        "    # Select class #0\n",
        "    X_0 = X[Y == class0]\n",
        "    Y_0 = Y[Y == class0]\n",
        "    # Select class #1\n",
        "    X_1 = X[Y == class1]\n",
        "    Y_1 = Y[Y == class1]\n",
        "    # Join the two classes to make the set\n",
        "    X_2classes = np.vstack((X_0, X_1))\n",
        "    Y_2classes = np.append(Y_0, Y_1)\n",
        "    return X_2classes, Y_2classes"
      ],
      "execution_count": 0,
      "outputs": []
    },
    {
      "metadata": {
        "colab_type": "code",
        "id": "QtAqtK7oe6qz",
        "colab": {}
      },
      "cell_type": "code",
      "source": [
        "# Select classes #5 and #7\n",
        "  X_train_2classes, Y_train_2classes = extract_2classes(5, 7, X_train, Y_train)\n",
        "X_test_2classes, Y_test_2classes = extract_2classes(5, 7, X_test, Y_test)"
      ],
      "execution_count": 0,
      "outputs": []
    },
    {
      "metadata": {
        "colab_type": "code",
        "id": "HuEIbciBe6q2",
        "outputId": "9c7bf393-b4d5-4217-f65b-9b0c13efd6ae",
        "colab": {
          "base_uri": "https://localhost:8080/",
          "height": 68
        }
      },
      "cell_type": "code",
      "source": [
        "# Binary classification for classes 1 and 2 using hand features\n",
        "w = one_vs_one_classifier_ours(X_train_2classes, Y_train_2classes)\n",
        "\n",
        "# Find accuracy\n",
        "calc_accuracy(X_test_2classes, Y_test_2classes, w)"
      ],
      "execution_count": 0,
      "outputs": [
        {
          "output_type": "stream",
          "text": [
            "Running Epoch # 50\n",
            "Running Epoch # 100\n",
            "accuracy = 0.644\n"
          ],
          "name": "stdout"
        }
      ]
    },
    {
      "metadata": {
        "colab_type": "text",
        "id": "JWwduESTe6q9"
      },
      "cell_type": "markdown",
      "source": [
        "### Feature type 2: Hand crafted features\n",
        "For this we extracted 9 dimension feature for each image. Feature consist of min,max and mean intensity values for RGB channel."
      ]
    },
    {
      "metadata": {
        "colab_type": "code",
        "id": "K90jI0Hxe6q_",
        "colab": {}
      },
      "cell_type": "code",
      "source": [
        "## Hand crafted features. For this we extracted 9 dimension feature for each image.\n",
        "## Feature consist of min, max and mean intensity values for RGB channel.\n",
        "\n",
        "# Extract min, max and mean of R, G, and B in each image\n",
        "# in train\n",
        "def extract_RGB_min_max_mean(X):\n",
        "    R, G, B = 1024, 2048, 3072\n",
        "    R_min = np.reshape(np.min(X[:, :R], axis=1), (len(X), 1))\n",
        "    R_max = np.reshape(np.max(X[:, :R], axis=1), (len(X), 1))\n",
        "    R_mean = np.reshape(np.mean(X[:, :R], axis=1), (len(X), 1))\n",
        "    G_min = np.reshape(np.min(X[:, R:G], axis=1), (len(X), 1))\n",
        "    G_max = np.reshape(np.max(X[:, R:G], axis=1), (len(X), 1))\n",
        "    G_mean = np.reshape(np.mean(X[:, R:G], axis=1), (len(X), 1))\n",
        "    B_min = np.reshape(np.min(X[:, G:B], axis=1), (len(X), 1))\n",
        "    B_max = np.reshape(np.max(X[:, G:B], axis=1), (len(X), 1))\n",
        "    B_mean = np.reshape(np.mean(X[:, G:B], axis=1), (len(X), 1))\n",
        "    return np.hstack((R_min, R_max, R_mean, G_min, G_max, G_mean, B_min, B_max, B_mean))\n",
        "\n",
        "head_features_train = extract_RGB_min_max_mean(X_train_2classes)\n",
        "head_features_test = extract_RGB_min_max_mean(X_test_2classes)"
      ],
      "execution_count": 0,
      "outputs": []
    },
    {
      "metadata": {
        "colab_type": "code",
        "id": "Y-5YUmbae6rE",
        "outputId": "341bff0b-cf96-46e0-9194-886e17278a5c",
        "colab": {
          "base_uri": "https://localhost:8080/",
          "height": 68
        }
      },
      "cell_type": "code",
      "source": [
        "# Binary classification for classes 1 and 2 using hand features\n",
        "w = one_vs_one_classifier_ours(head_features_train, Y_train_2classes)\n",
        "\n",
        "# Find accuracy\n",
        "calc_accuracy(head_features_test, Y_test_2classes, w)"
      ],
      "execution_count": 0,
      "outputs": [
        {
          "output_type": "stream",
          "text": [
            "Running Epoch # 50\n",
            "Running Epoch # 100\n",
            "accuracy = 0.5085\n"
          ],
          "name": "stdout"
        }
      ]
    },
    {
      "metadata": {
        "colab_type": "text",
        "id": "h6F_rUnIe6rJ"
      },
      "cell_type": "markdown",
      "source": [
        "### Feature-type3: PCA Features\n",
        "Use PCA to reduce features high dimensionality features into low dimansionality features"
      ]
    },
    {
      "metadata": {
        "colab_type": "code",
        "id": "6KgBfaB3e6rK",
        "colab": {}
      },
      "cell_type": "code",
      "source": [
        "## apply pca\n",
        "from sklearn.decomposition import PCA\n",
        "\n",
        "def extract_eigenvectors(k, X_train):\n",
        "    pca = PCA(n_components=k)\n",
        "    pca.fit(X_train)\n",
        "    eigen_vectors = pca.components_\n",
        "    return eigen_vectors, pca\n",
        "\n",
        "def make_pca_features(eigen_vectors, X):\n",
        "    return np.transpose(np.dot(eigen_vectors, np.transpose(X)))"
      ],
      "execution_count": 0,
      "outputs": []
    },
    {
      "metadata": {
        "colab_type": "text",
        "id": "u9Zdds9He6rN"
      },
      "cell_type": "markdown",
      "source": [
        "Lets try k value as 200"
      ]
    },
    {
      "metadata": {
        "colab_type": "code",
        "id": "3UIWBve0e6rO",
        "colab": {}
      },
      "cell_type": "code",
      "source": [
        "# Make pca features\n",
        "k = 200\n",
        "eigen_vectors, pca_object = extract_eigenvectors(k, X_train_2classes)\n",
        "pca_features_train_2classes = make_pca_features(eigen_vectors, X_train_2classes)\n",
        "pca_features_test_2classes = make_pca_features(eigen_vectors, X_test_2classes)"
      ],
      "execution_count": 0,
      "outputs": []
    },
    {
      "metadata": {
        "colab_type": "code",
        "id": "aFxpd1epe6rW",
        "outputId": "8b958a2d-c8ce-4cb5-89d3-40a7d8d682e7",
        "colab": {
          "base_uri": "https://localhost:8080/",
          "height": 68
        }
      },
      "cell_type": "code",
      "source": [
        "# Binary classification for classes 1 and 2 using hand features\n",
        "w = one_vs_one_classifier_ours(pca_features_train_2classes, Y_train_2classes)\n",
        "\n",
        "# Find accuracy\n",
        "calc_accuracy(pca_features_test_2classes, Y_test_2classes, w)"
      ],
      "execution_count": 0,
      "outputs": [
        {
          "output_type": "stream",
          "text": [
            "Running Epoch # 50\n",
            "Running Epoch # 100\n",
            "accuracy = 0.6325\n"
          ],
          "name": "stdout"
        }
      ]
    },
    {
      "metadata": {
        "colab_type": "code",
        "id": "8Sb_Wtt7e6rh",
        "outputId": "57b37628-e4f2-41dd-f590-c67bca6964d0",
        "colab": {
          "base_uri": "https://localhost:8080/",
          "height": 289
        }
      },
      "cell_type": "code",
      "source": [
        "## Try different k values\n",
        "for k in [800, 1000, 1200, 1400]:\n",
        "    print(\"Training with k =\", k)\n",
        "    # Make pca features\n",
        "    eigen_vectors, pca_object = extract_eigenvectors(k, X_train_2classes)\n",
        "    pca_features_train = make_pca_features(eigen_vectors, X_train_2classes)\n",
        "    pca_features_test = make_pca_features(eigen_vectors, X_test_2classes)\n",
        "    # Binary classification for classes 1 and 2 using hand features\n",
        "    w = one_vs_one_classifier_ours(pca_features_train, Y_train_2classes)\n",
        "    # Find accuracy\n",
        "    calc_accuracy(pca_features_test, Y_test_2classes, w)"
      ],
      "execution_count": 0,
      "outputs": [
        {
          "output_type": "stream",
          "text": [
            "Training with k = 800\n",
            "Running Epoch # 50\n",
            "Running Epoch # 100\n",
            "accuracy = 0.645\n",
            "Training with k = 1000\n",
            "Running Epoch # 50\n",
            "Running Epoch # 100\n",
            "accuracy = 0.6455\n",
            "Training with k = 1200\n",
            "Running Epoch # 50\n",
            "Running Epoch # 100\n",
            "accuracy = 0.6425\n",
            "Training with k = 1400\n",
            "Running Epoch # 50\n",
            "Running Epoch # 100\n",
            "accuracy = 0.644\n"
          ],
          "name": "stdout"
        }
      ]
    },
    {
      "metadata": {
        "colab_type": "text",
        "id": "8Hmr8HgUe6rn"
      },
      "cell_type": "markdown",
      "source": [
        "### Feature type-4: Deep Features"
      ]
    },
    {
      "metadata": {
        "colab_type": "code",
        "id": "nNWLqM_De6ro",
        "colab": {}
      },
      "cell_type": "code",
      "source": [
        "### Loading the features\n",
        "features = sio.loadmat('AIML_DS_CIFAR-10_STD/cifar10_deep_features.mat')"
      ],
      "execution_count": 0,
      "outputs": []
    },
    {
      "metadata": {
        "colab_type": "code",
        "id": "AQo_2EdWe6rt",
        "outputId": "5fb8e5d8-a5be-4d64-ff88-55c4ac40ec2a",
        "colab": {
          "base_uri": "https://localhost:8080/",
          "height": 34
        }
      },
      "cell_type": "code",
      "source": [
        "# Extracting the deep features into training and testing\n",
        "deep_features_train = features['x_train']\n",
        "deep_labels_train = np.squeeze(np.transpose(features['y_train']))\n",
        "deep_features_test = features['x_test']\n",
        "deep_labels_test = np.squeeze(np.transpose(features['y_test']))\n",
        "print(deep_features_train.shape, deep_labels_train.shape, deep_features_test.shape, deep_labels_test.shape)"
      ],
      "execution_count": 0,
      "outputs": [
        {
          "output_type": "stream",
          "text": [
            "(50000, 512) (50000,) (10000, 512) (10000,)\n"
          ],
          "name": "stdout"
        }
      ]
    },
    {
      "metadata": {
        "colab_type": "code",
        "id": "keqjhNvze6ry",
        "colab": {}
      },
      "cell_type": "code",
      "source": [
        "# Extract features of class0 and class1\n",
        "deep_features_train_2classes, deep_labels_train_2classes = extract_2classes(5, 7, deep_features_train, np.squeeze(deep_labels_train))\n",
        "deep_features_test_2classes, deep_labels_test_2classes = extract_2classes(5, 7, deep_features_test, np.squeeze(deep_labels_test))"
      ],
      "execution_count": 0,
      "outputs": []
    },
    {
      "metadata": {
        "colab_type": "code",
        "id": "a1_w3wYke6r2",
        "outputId": "1cdda7d8-8933-49cc-8eab-38d3dfd162a9",
        "colab": {
          "base_uri": "https://localhost:8080/",
          "height": 68
        }
      },
      "cell_type": "code",
      "source": [
        "# Binary classification for classes 1 and 2 using hand features\n",
        "w = one_vs_one_classifier_ours(deep_features_train_2classes, deep_labels_train_2classes)\n",
        "\n",
        "# Find accuracy\n",
        "calc_accuracy(deep_features_test_2classes, deep_labels_test_2classes, w)"
      ],
      "execution_count": 0,
      "outputs": [
        {
          "output_type": "stream",
          "text": [
            "Running Epoch # 50\n",
            "Running Epoch # 100\n",
            "accuracy = 0.9795\n"
          ],
          "name": "stdout"
        }
      ]
    },
    {
      "metadata": {
        "colab_type": "text",
        "id": "eMeGmNlme6r-"
      },
      "cell_type": "markdown",
      "source": [
        "### Summary"
      ]
    },
    {
      "metadata": {
        "colab_type": "text",
        "id": "_HWHEti8e6r-"
      },
      "cell_type": "markdown",
      "source": [
        "1. We have seen how to extract the features from images using different techniques namely Raw intensity using RGB, hand-crafted features, PCA and Deep features.\n",
        "2. We have learnt how to perform Binary-Class Classification. "
      ]
    },
    {
      "metadata": {
        "colab_type": "text",
        "id": "dpmrvcNkg4KM"
      },
      "cell_type": "markdown",
      "source": [
        "### Please answer the questions below to complete the experiment:"
      ]
    },
    {
      "metadata": {
        "id": "HnEXMRNioEKb",
        "colab_type": "code",
        "colab": {}
      },
      "cell_type": "code",
      "source": [
        "#@title The purpose of using \"eta *= 0.75\" in the function 'perceptron_sgd' is? { run: \"auto\", form-width: \"500px\", display-mode: \"form\" }\n",
        "Answer = \"To ensure reaching minima faster\" #@param [\"To ensure reaching minima faster\", \"To ensure that you don't overshoot the minima\", \"It is redundant and not necessary\"]\n"
      ],
      "execution_count": 0,
      "outputs": []
    },
    {
      "metadata": {
        "colab_type": "code",
        "id": "B0KcZCz5e6sA",
        "colab": {}
      },
      "cell_type": "code",
      "source": [
        "#@title How was the experiment? { run: \"auto\", form-width: \"500px\", display-mode: \"form\" }\n",
        "Complexity = \"Good and Challenging me\" #@param [\"Too Simple, I am wasting time\", \"Good, But Not Challenging for me\", \"Good and Challenging me\", \"Was Tough, but I did it\", \"Too Difficult for me\"]\n"
      ],
      "execution_count": 0,
      "outputs": []
    },
    {
      "metadata": {
        "colab_type": "code",
        "id": "ZZTYl4pmg9Qq",
        "colab": {}
      },
      "cell_type": "code",
      "source": [
        "#@title If it was very easy, what more you would have liked to have been added? If it was very difficult, what would you have liked to have been removed? { run: \"auto\", display-mode: \"form\" }\n",
        "Additional = \"NA\" #@param {type:\"string\"}"
      ],
      "execution_count": 0,
      "outputs": []
    },
    {
      "metadata": {
        "colab_type": "code",
        "id": "4YKDp73pg_IE",
        "colab": {}
      },
      "cell_type": "code",
      "source": [
        "#@title Can you identify the concepts from the lecture which this experiment covered? { run: \"auto\", vertical-output: true, display-mode: \"form\" }\n",
        "Concepts = \"Yes\" #@param [\"Yes\", \"No\"]"
      ],
      "execution_count": 0,
      "outputs": []
    },
    {
      "metadata": {
        "cellView": "form",
        "colab_type": "code",
        "id": "J0XbVGLPhBC4",
        "outputId": "a0d4150e-71a2-469a-ac32-8f74fd8f42b6",
        "colab": {
          "base_uri": "https://localhost:8080/",
          "height": 119
        }
      },
      "cell_type": "code",
      "source": [
        "#@title Run this cell to submit your notebook for grading { vertical-output: true }\n",
        "try:\n",
        "  if submission_id:\n",
        "      return_id = submit_notebook()\n",
        "      if return_id : submission_id =return_id\n",
        "  else:\n",
        "      print(\"Please complete the setup first.\")\n",
        "except NameError:\n",
        "  print (\"Please complete the setup first.\")"
      ],
      "execution_count": 0,
      "outputs": [
        {
          "output_type": "stream",
          "text": [
            "Your submission is successful.\n",
            "Ref Id: 30622\n",
            "Date of submission:  24 Jan 2019\n",
            "Time of submission:  06:52:25\n",
            "View your submissions: https://iiith-aiml.talentsprint.com/notebook_submissions\n",
            "For any queries/discrepancies, please connect with mentors through the chat icon in LMS dashboard.\n"
          ],
          "name": "stdout"
        }
      ]
    },
    {
      "metadata": {
        "id": "7wCF8jQjoF0F",
        "colab_type": "code",
        "colab": {}
      },
      "cell_type": "code",
      "source": [
        ""
      ],
      "execution_count": 0,
      "outputs": []
    }
  ]
}