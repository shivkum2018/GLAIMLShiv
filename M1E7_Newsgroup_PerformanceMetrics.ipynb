{
  "nbformat": 4,
  "nbformat_minor": 0,
  "metadata": {
    "colab": {
      "name": "M1E7_Newsgroup_PerformanceMetrics.ipynb",
      "version": "0.3.2",
      "provenance": [],
      "collapsed_sections": [],
      "include_colab_link": true
    },
    "kernelspec": {
      "display_name": "Python 3",
      "language": "python",
      "name": "python3"
    }
  },
  "cells": [
    {
      "cell_type": "markdown",
      "metadata": {
        "id": "view-in-github",
        "colab_type": "text"
      },
      "source": [
        "<a href=\"https://colab.research.google.com/github/shivkum2018/GLAIMLShiv/blob/master/M1E7_Newsgroup_PerformanceMetrics.ipynb\" target=\"_parent\"><img src=\"https://colab.research.google.com/assets/colab-badge.svg\" alt=\"Open In Colab\"/></a>"
      ]
    },
    {
      "metadata": {
        "id": "UH62CWxTDTpf",
        "colab_type": "text"
      },
      "cell_type": "markdown",
      "source": [
        "# Advanced Certification in AIML\n",
        "## A Program by IIIT-H and TalentSprint"
      ]
    },
    {
      "metadata": {
        "id": "qu26Vq9jDTpj",
        "colab_type": "text"
      },
      "cell_type": "markdown",
      "source": [
        "### Objective:\n",
        "\n",
        "The focus of this experiment is to check the performance metrics under section 3  below. Section 1 and 2 is a repeat of Word2Vec and 'Bag of words' models you saw earlier. You may skim through them."
      ]
    },
    {
      "metadata": {
        "id": "2rsqN-usrMtj",
        "colab_type": "code",
        "cellView": "form",
        "colab": {}
      },
      "cell_type": "code",
      "source": [
        "#@title Experiment Walkthrough\n",
        "#@markdown 20 Newsgroup PerformanceMetrics\n",
        "from IPython.display import HTML\n",
        "\n",
        "HTML(\"\"\"<video width=\"420\" height=\"240\" controls>\n",
        "  <source src=\"https://cdn.talentsprint.com/aiml/AIML_BATCH_HYD_7/JAN20/performance_metrics.mp4\" type=\"video/mp4\">\n",
        "</video>\n",
        "\"\"\")"
      ],
      "execution_count": 0,
      "outputs": []
    },
    {
      "metadata": {
        "id": "7pobf8O4bBRJ",
        "colab_type": "text"
      },
      "cell_type": "markdown",
      "source": [
        "### Dataset\n",
        "In this experiment we use the 20 newsgroup dataset\n",
        "\n",
        "**Description**\n",
        "\n",
        "This dataset is a collection of approximately 20,000 newsgroup documents, partitioned across 20 different newsgroups. That is there are approximately one thousand documents taken from each of the following newsgroups:\n",
        "\n",
        "    alt.athesim\n",
        "    comp.graphics   \n",
        "    comp.os.ms-windows.misc\n",
        "    comp.sys.ibm.pc.hardware\n",
        "    comp.sys.mac.hardware\n",
        "    comp.windows.x\n",
        "    misc.forsale\n",
        "    rec.autos\n",
        "    rec.motorcycles\n",
        "    rec.sport.baseball\n",
        "    rec.sport.hockey\n",
        "    sci.crypt\n",
        "    sci.electronics\n",
        "    sci.med\n",
        "    sci.space\n",
        "    soc.religion.christian\n",
        "    talk.politics.guns\n",
        "    talk.politics.mideast\n",
        "    talk.politics.misc\n",
        "    talk.religion.misc\n",
        "\n",
        "The dataset consists **Usenet** posts--essentially an email sent by subscribers to that newsgroup. They typically contain quotes from previous posts as well as cross posts i.e. a few posts may be sent to more than once in a newsgroup.\n",
        "\n",
        "Each newsgroup is stored in a subdirectory, with each post stored as a separate file.\n",
        "\n",
        "Data source to this experiment : http://archive.ics.uci.edu/ml/datasets/Twenty+Newsgroups"
      ]
    },
    {
      "metadata": {
        "id": "-ZYYZDRUDZQe",
        "colab_type": "text"
      },
      "cell_type": "markdown",
      "source": [
        "### Setup Steps"
      ]
    },
    {
      "metadata": {
        "id": "pl3kyR-_DYJG",
        "colab_type": "code",
        "colab": {}
      },
      "cell_type": "code",
      "source": [
        "#@title Please enter your registration id to start: (e.g. P181900101) { run: \"auto\", display-mode: \"form\" }\n",
        "Id = \"\" #@param {type:\"string\"}\n"
      ],
      "execution_count": 0,
      "outputs": []
    },
    {
      "metadata": {
        "id": "d5pX0FDNDfCz",
        "colab_type": "code",
        "colab": {}
      },
      "cell_type": "code",
      "source": [
        "#@title Please enter your password (normally your phone number) to continue: { run: \"auto\", display-mode: \"form\" }\n",
        "password = \"\" #@param {type:\"string\"}\n"
      ],
      "execution_count": 0,
      "outputs": []
    },
    {
      "metadata": {
        "id": "rY9tpN4plzNB",
        "colab_type": "code",
        "cellView": "form",
        "colab": {}
      },
      "cell_type": "code",
      "source": [
        "#@title Run this cell to complete the setup for this Notebook\n",
        "\n",
        "from IPython import get_ipython\n",
        "ipython = get_ipython()\n",
        "  \n",
        "notebook=\"M1E7_Newsgroup_PerformanceMetrics\"\n",
        "   \n",
        "def setup():\n",
        "#  ipython.magic(\"sx pip3 install torch\")\n",
        "    ipython.magic(\"sx pip3 install gensim\")\n",
        "    ipython.magic(\"sx wget https://cdn.talentsprint.com/aiml/Experiment_related_data/AIML_DS_NEWSGROUPS_PICKELFILE.pkl\")\n",
        "    #ipython.magic(\"sx unzip AIML_DS_NEWSGROUPS_PICKELFILE.pkl.zip?dl=1\")\n",
        "    ipython.magic(\"sx wget https://cdn.talentsprint.com/aiml/Experiment_related_data/AIML_DS_WORD2VEC2D_STD.pkl.zip?dl=1\")\n",
        "    ipython.magic(\"sx unzip AIML_DS_WORD2VEC2D_STD.pkl.zip?dl=1\")\n",
        "    ipython.magic(\"sx wget https://www.dropbox.com/s/9xivz2pox1i83td/AIML_DS_GOOGLENEWS-VECTORS-NEGATIVE-300_STD.bin?dl=1\")\n",
        "    ipython.magic(\"sx mv AIML_DS_GOOGLENEWS-VECTORS-NEGATIVE-300_STD.bin?dl=1 AIML_DS_GOOGLENEWS-VECTORS-NEGATIVE-300_STD.bin\")\n",
        "    print (\"Setup completed successfully\")\n",
        "    return\n",
        "\n",
        "def submit_notebook():\n",
        "    \n",
        "    ipython.magic(\"notebook -e \"+ notebook + \".ipynb\")\n",
        "    \n",
        "    import requests, json, base64, datetime\n",
        "\n",
        "    url = \"https://dashboard.talentsprint.com/xp/app/save_notebook_attempts\"\n",
        "    if not submission_id:\n",
        "      data = {\"id\" : getId(), \"notebook\" : notebook, \"mobile\" : getPassword()}\n",
        "      r = requests.post(url, data = data)\n",
        "      r = json.loads(r.text)\n",
        "\n",
        "      if r[\"status\"] == \"Success\":\n",
        "          return r[\"record_id\"]\n",
        "      elif \"err\" in r:        \n",
        "        print(r[\"err\"])\n",
        "        return None        \n",
        "      else:\n",
        "        print (\"Something is wrong, the notebook will not be submitted for grading\")\n",
        "        return None\n",
        "\n",
        "    elif getAnswer() and getComplexity() and getAdditional() and getConcepts():\n",
        "      f = open(notebook + \".ipynb\", \"rb\")\n",
        "      file_hash = base64.b64encode(f.read())\n",
        "\n",
        "      data = {\"complexity\" : Complexity, \"additional\" :Additional, \n",
        "              \"concepts\" : Concepts, \"record_id\" : submission_id, \n",
        "              \"answer\" : Answer, \"id\" : Id, \"file_hash\" : file_hash,\n",
        "              \"notebook\" : notebook}\n",
        "\n",
        "      r = requests.post(url, data = data)\n",
        "      r = json.loads(r.text)\n",
        "      print(\"Your submission is successful.\")\n",
        "      print(\"Ref Id:\", submission_id)\n",
        "      print(\"Date of submission: \", r[\"date\"])\n",
        "      print(\"Time of submission: \", r[\"time\"])\n",
        "      print(\"View your submissions: https://iiith-aiml.talentsprint.com/notebook_submissions\")\n",
        "      print(\"For any queries/discrepancies, please connect with mentors through the chat icon in LMS dashboard.\")\n",
        "      return submission_id\n",
        "    else: submission_id\n",
        "    \n",
        "\n",
        "def getAdditional():\n",
        "  try:\n",
        "    if Additional: return Additional      \n",
        "    else: raise NameError('')\n",
        "  except NameError:\n",
        "    print (\"Please answer Additional Question\")\n",
        "    return None\n",
        "\n",
        "def getComplexity():\n",
        "  try:\n",
        "    return Complexity\n",
        "  except NameError:\n",
        "    print (\"Please answer Complexity Question\")\n",
        "    return None\n",
        "  \n",
        "def getConcepts():\n",
        "  try:\n",
        "    return Concepts\n",
        "  except NameError:\n",
        "    print (\"Please answer Concepts Question\")\n",
        "    return None\n",
        "\n",
        "def getAnswer():\n",
        "  try:\n",
        "    return Answer\n",
        "  except NameError:\n",
        "    print (\"Please answer Question\")\n",
        "    return None\n",
        "\n",
        "def getId():\n",
        "  try: \n",
        "    return Id if Id else None\n",
        "  except NameError:\n",
        "    return None\n",
        "\n",
        "def getPassword():\n",
        "  try:\n",
        "    return password if password else None\n",
        "  except NameError:\n",
        "    return None\n",
        "\n",
        "submission_id = None\n",
        "### Setup \n",
        "if getPassword() and getId():\n",
        "  submission_id = submit_notebook()\n",
        "  if submission_id:\n",
        "    setup()\n",
        "  \n",
        "else:\n",
        "  print (\"Please complete Id and Password cells before running setup\")\n",
        "\n"
      ],
      "execution_count": 0,
      "outputs": []
    },
    {
      "metadata": {
        "id": "NGUe0eXtcl0K",
        "colab_type": "code",
        "colab": {}
      },
      "cell_type": "code",
      "source": [
        "!ls"
      ],
      "execution_count": 0,
      "outputs": []
    },
    {
      "metadata": {
        "id": "iCwSJmXNDTpq",
        "colab_type": "code",
        "colab": {}
      },
      "cell_type": "code",
      "source": [
        "# Importing required Packages\n",
        "import pickle\n",
        "import re\n",
        "import operator\n",
        "from collections import defaultdict\n",
        "import matplotlib.pyplot as plt\n",
        "import numpy as np\n",
        "import math\n",
        "import collections\n",
        "import gensim"
      ],
      "execution_count": 0,
      "outputs": []
    },
    {
      "metadata": {
        "id": "LkOdbWcbDTpm",
        "colab_type": "text"
      },
      "cell_type": "markdown",
      "source": [
        "\n",
        "\n",
        "To get a sense of our data, let us first start by counting the frequencies of the target classes in our news articles in the training set."
      ]
    },
    {
      "metadata": {
        "id": "urLEOmkbDTpv",
        "colab_type": "code",
        "colab": {}
      },
      "cell_type": "code",
      "source": [
        "\n",
        "dataset = pickle.load(open('AIML_DS_NEWSGROUPS_PICKELFILE.pkl','rb'))\n",
        "print(dataset.keys())\n",
        "\n",
        "# Print frequencies of dataset\n",
        "print(\"Class : count\")\n",
        "print(\"--------------\")\n",
        "number_of_documents = 0\n",
        "for key in dataset:\n",
        "    print(key, ':', len(dataset[key]))"
      ],
      "execution_count": 0,
      "outputs": []
    },
    {
      "metadata": {
        "id": "3E1md10WDTpy",
        "colab_type": "text"
      },
      "cell_type": "markdown",
      "source": [
        "## Splitting into train and test sets"
      ]
    },
    {
      "metadata": {
        "id": "R0AYtzi-DTpz",
        "colab_type": "text"
      },
      "cell_type": "markdown",
      "source": [
        "Next, let us split our dataset which consists of 1000 samples per class, into training and test sets. We use 950 samples from each class in the training set, and the remaining 50 in the test set. \n",
        "\n",
        "As a mental exercise you should try reasoning about why is it important to ensure a nearly equal distribution of classes in your training and test sets. "
      ]
    },
    {
      "metadata": {
        "id": "SjDQqmbMDTp1",
        "colab_type": "code",
        "colab": {}
      },
      "cell_type": "code",
      "source": [
        "train_set = {}\n",
        "test_set = {}\n",
        "\n",
        "# Clean dataset for text encoding issues :- Very useful when dealing with non-unicode characters\n",
        "for key in dataset:\n",
        "    dataset[key] = [[i.decode('utf-8', errors='replace').lower() for i in f] for f in dataset[key]]\n",
        "    \n",
        "# Break dataset into 95-5 split for training and testing\n",
        "n_train = 0\n",
        "n_test = 0\n",
        "for k in dataset:\n",
        "    split = int(0.95*len(dataset[k]))\n",
        "    train_set[k] = dataset[k][0:split]\n",
        "    test_set[k] = dataset[k][split:-1]\n",
        "    n_train += len(train_set[k])\n",
        "    n_test += len(test_set[k])"
      ],
      "execution_count": 0,
      "outputs": []
    },
    {
      "metadata": {
        "id": "BcXuwTGWDTp5",
        "colab_type": "code",
        "colab": {}
      },
      "cell_type": "code",
      "source": [
        "# Initialize a dictionary to store frequencies of words.\n",
        "# Key:Value === Word:Count\n",
        "frequency = defaultdict(int)\n",
        "    \n",
        "for key in train_set:\n",
        "    for f in train_set[key]:\n",
        "        \n",
        "        # Find all words which consist only of capital and lowercase characters and are between length of 2-9.\n",
        "        # We ignore all special characters such as !.$ and words containing numbers\n",
        "        words = re.findall(r'(\\b[A-Za-z][a-z]{2,9}\\b)', ' '.join(f))\n",
        "    \n",
        "        for word in words:\n",
        "            frequency[word] += 1\n",
        "\n",
        "sorted_words = sorted(frequency.items(), key=operator.itemgetter(1), reverse=True)\n",
        "print(\"Top-10 most frequent words:\")\n",
        "for word in sorted_words[:10]:\n",
        "    print(word)\n",
        "\n",
        "print('----------------------------')\n",
        "print(\"10 least frequent words:\")\n",
        "for word in sorted_words[-10:-1]:\n",
        "    print(word)"
      ],
      "execution_count": 0,
      "outputs": []
    },
    {
      "metadata": {
        "id": "VJpqahqtDTp-",
        "colab_type": "code",
        "colab": {}
      },
      "cell_type": "code",
      "source": [
        "valid_words = defaultdict(int)\n",
        "\n",
        "print('Number of words before preprocessing:', len(sorted_words))\n",
        "\n",
        "# Ignore the 25 most frequent words, and the words which appear less than 100 times\n",
        "ignore_most_frequent = 25\n",
        "freq_thresh = 100\n",
        "feature_number = 0\n",
        "for word, word_frequency in sorted_words[ignore_most_frequent:]:\n",
        "    if word_frequency > freq_thresh:\n",
        "        valid_words[word] = feature_number\n",
        "        feature_number += 1\n",
        "        \n",
        "print('Number of words after preprocessing:', len(valid_words))\n",
        "\n",
        "word_vector_size = len(valid_words)"
      ],
      "execution_count": 0,
      "outputs": []
    },
    {
      "metadata": {
        "id": "bXqK59gGDTqE",
        "colab_type": "text"
      },
      "cell_type": "markdown",
      "source": [
        "# 1. Word2Vec"
      ]
    },
    {
      "metadata": {
        "id": "csm5a0hrDTqI",
        "colab_type": "text"
      },
      "cell_type": "markdown",
      "source": [
        "In the previous section we saw a naive way to represent words as dense vectors which can leverage the semantics of the words.\n",
        "\n",
        "The problem with count-based word representations is that they are costly in terms of memory to compute large co-occurrence matrices. Let us see another method to find representations of words without explicitly counting words.\n",
        "\n",
        "Here, we aim to predict the next word given the context in which the word appears. (For example, given the last $n$ words, predict the next word). A very smart way to do this is by using a feature representation called \"Word2Vec\" with transforms each word into 300-dimensional vectors.\n",
        "\n",
        "Link to pretrained 300 dimensional word2vec: https://drive.google.com/uc?id=0B7XkCwpI5KDYNlNUTTlSS21pQmM&export=download"
      ]
    },
    {
      "metadata": {
        "id": "0QBnlIZxDTqK",
        "colab_type": "text"
      },
      "cell_type": "markdown",
      "source": [
        "## 1.1 Visualizations\n",
        "\n",
        "Before we go to the actual 300 dimensional vectors, let's try to explore some of the more intriguing properties of word2vec.\n",
        "\n",
        "You have been provided with a sample of word vectors. **We have reduced the dimensionality of the 300-dimensional vectors to 2 dimensions, so that we can plot them in matplotlib.**"
      ]
    },
    {
      "metadata": {
        "id": "yg0FXnBhDTqL",
        "colab_type": "code",
        "colab": {}
      },
      "cell_type": "code",
      "source": [
        "def plot_values(values, labels, figsize = (8,4), c = []):\n",
        "    x = []\n",
        "    y = []\n",
        "    for value in values:\n",
        "        x.append(value[0])\n",
        "        y.append(value[1])\n",
        "        \n",
        "    plt.figure(figsize=figsize) \n",
        "    for i in range(len(labels)):\n",
        "        plt.scatter(x[i],y[i], color=c[i])\n",
        "        plt.annotate(labels[i],\n",
        "                     xy=(x[i], y[i]),\n",
        "                     xytext=(5, 2),\n",
        "                     textcoords='offset points',\n",
        "                     ha='right',\n",
        "                     va='bottom')\n",
        "    plt.show()\n",
        "\n",
        "\n",
        "import pickle\n",
        "two_dim_model = pickle.load(open('AIML_DS_WORD2VEC2D_STD.pkl', 'rb'))\n",
        "\n",
        "wv_labels = {}\n",
        "for vec, word in two_dim_model:\n",
        "    wv_labels[word] = vec\n",
        "    \n",
        "colors = ['blue' for i in range(len(wv_labels))]\n",
        "\n",
        "plot_values(wv_labels.values(), list(wv_labels.keys()), figsize = (16, 9), c = colors)"
      ],
      "execution_count": 0,
      "outputs": []
    },
    {
      "metadata": {
        "id": "W2Yxw_7FDTqP",
        "colab_type": "text"
      },
      "cell_type": "markdown",
      "source": [
        "Now, we have given you the 2D representation of different word vectors. Plot the word vectors for the words 'King', 'Queen', 'man', 'women', 'Germany', 'France', 'Berlin', 'Paris', 'best', 'good', 'strong', 'strongest' in green color:"
      ]
    },
    {
      "metadata": {
        "id": "JMF6vO05DTqQ",
        "colab_type": "code",
        "colab": {}
      },
      "cell_type": "code",
      "source": [
        "wv_list = ['king', 'queen', 'man', 'woman', 'Germany', 'France', 'Berlin', 'Paris', 'best', 'good', 'strong', 'strongest']\n",
        "wv_new_labels = {}\n",
        "for word in wv_list:\n",
        "    wv_new_labels[word] = wv_labels[word]\n",
        "\n",
        "colors = ['green' for i in range(len(wv_new_labels))]\n",
        "plot_values(wv_new_labels.values(), list(wv_new_labels.keys()), c = colors)"
      ],
      "execution_count": 0,
      "outputs": []
    },
    {
      "metadata": {
        "id": "2PbuN6OaDTqU",
        "colab_type": "text"
      },
      "cell_type": "markdown",
      "source": [
        "Consider the word analogy question: \"Queen is to King, as Woman is to what?\"\n",
        "\n",
        "To answer this question, we aim to find what the difference between a \"King\" and \"Queen\" is, and apply that difference to a \"Woman\". If we try to put this mathematically, we can write:- \n",
        "$$\n",
        " Answer = Woman + King - Queen\n",
        "$$\n",
        "\n",
        "Compute the value of the vector on the right hand side of the above equation and plot the resulting vector in red in the same plot as before. "
      ]
    },
    {
      "metadata": {
        "id": "GHer2vrbDTqV",
        "colab_type": "code",
        "colab": {}
      },
      "cell_type": "code",
      "source": [
        "answer = wv_new_labels['woman']  + wv_new_labels['queen'] - wv_new_labels['king']\n",
        "\n",
        "wv_new_labels['answer1'] = answer\n",
        "\n",
        "colors = ['green' if word not in ['answer1'] else 'red' for word in wv_new_labels]\n",
        "\n",
        "plot_values(wv_new_labels.values(), list(wv_new_labels.keys()), c = colors)"
      ],
      "execution_count": 0,
      "outputs": []
    },
    {
      "metadata": {
        "id": "5kCh_NClDTqY",
        "colab_type": "text"
      },
      "cell_type": "markdown",
      "source": [
        "Notice how the answer vector is very close to the vector of the word \"Man\"? Incidentally, \"Man\" is the right answer to the word analogy question! This is the power of Word2Vec representations."
      ]
    },
    {
      "metadata": {
        "id": "mOcxKzuvDTql",
        "colab_type": "text"
      },
      "cell_type": "markdown",
      "source": [
        "## 1.2 Load pre-trained Word2Vec\n",
        "\n",
        "Let us now proceed to load the complete pretrained vectors."
      ]
    },
    {
      "metadata": {
        "id": "yXoawLkSDTqn",
        "colab_type": "code",
        "colab": {}
      },
      "cell_type": "code",
      "source": [
        "model = gensim.models.KeyedVectors.load_word2vec_format('AIML_DS_GOOGLENEWS-VECTORS-NEGATIVE-300_STD.bin', binary=True, limit=500000)"
      ],
      "execution_count": 0,
      "outputs": []
    },
    {
      "metadata": {
        "id": "wFdjtmZLDTqq",
        "colab_type": "text"
      },
      "cell_type": "markdown",
      "source": [
        "## 1.3 Word2Vec representation\n",
        "\n",
        "Convert each document into average of the word2vec vectors of all valid words in document"
      ]
    },
    {
      "metadata": {
        "id": "DiZxIihmDTqr",
        "colab_type": "code",
        "colab": {}
      },
      "cell_type": "code",
      "source": [
        "word2vec_vector_size = 300\n",
        "\n",
        "'''\n",
        " This method converts documents to word vectors. It first checks if the word is valid according to our initial frequency \n",
        " threshold. Next, if it is, we add the precomputed word vectors together. If the word is valid, but we do not have a valid \n",
        " vector to represent the word, we add a random gaussian noise instead. Since we do not want to induce new noise each time,\n",
        " we store the same noise vector for training and test time in substitute_word_vecs variable.\n",
        "'''\n",
        "def convert_to_w2v(dataset, number_of_documents, substitute_word_vecs={}):\n",
        "    labels = np.zeros((number_of_documents, 1))\n",
        "    w2v_rep = np.zeros((number_of_documents, word2vec_vector_size))\n",
        "    \n",
        "    # Iterate over the dataset and split into words\n",
        "    i = 0\n",
        "    for label, class_name in enumerate(dataset):\n",
        "        for f in dataset[class_name]:\n",
        "            text = ' '.join(f).split(' ')\n",
        "            valid_count = 1\n",
        "            for word in text:\n",
        "                \n",
        "                # Check if word is valid or not according to original dataset pruning\n",
        "                if word in valid_words:\n",
        "                    try:\n",
        "                        w2v_rep[i] += model[word]\n",
        "                    except:\n",
        "                        '''The word isn't in our pretrained word-vectors, hence we add a random gaussian noise\n",
        "                         to account for this. We store the random vector we assigned to the word, and reuse \n",
        "                         the same vector during test time to ensure consistency.'''\n",
        "                        \n",
        "                        if word not in substitute_word_vecs.keys():\n",
        "                            substitute_word_vecs[word] = np.random.normal(-0.25, 0.25, word2vec_vector_size)\n",
        "                            \n",
        "                        w2v_rep[i] += substitute_word_vecs[word]\n",
        "                    \n",
        "                    valid_count += 1\n",
        "            \n",
        "            # Average\n",
        "            w2v_rep[i] = w2v_rep[i] / valid_count\n",
        "            \n",
        "            # Save label\n",
        "            labels[i] = label\n",
        "            \n",
        "            i += 1\n",
        "    \n",
        "    return w2v_rep, labels, substitute_word_vecs\n",
        "\n",
        "# Convert the train and test datasets into their word2vec representations\n",
        "train_w2v_set, train_w2v_labels, substitute_word_vecs = convert_to_w2v(train_set, n_train)\n",
        "test_w2v_set, test_w2v_labels,_ = convert_to_w2v(test_set, n_test, substitute_word_vecs)"
      ],
      "execution_count": 0,
      "outputs": []
    },
    {
      "metadata": {
        "id": "tmaYxNu-hIc5",
        "colab_type": "text"
      },
      "cell_type": "markdown",
      "source": [
        "#2 Bag-of-Words representation\n",
        "\n",
        "The simplest way to represent a document $D$ as a vector $V$ would be to now count the relevant words in the document. \n",
        "\n",
        "For each document, make a vector of the count of each of the words in the vocabulary (excluding the words removed in the previous step - the \"stopwords\")."
      ]
    },
    {
      "metadata": {
        "id": "-nsxZHLZdF3z",
        "colab_type": "code",
        "colab": {}
      },
      "cell_type": "code",
      "source": [
        "def convert_to_BoW(dataset, number_of_documents):\n",
        "    bow_representation = np.zeros((number_of_documents, word_vector_size))\n",
        "    labels = np.zeros((number_of_documents, 1))\n",
        "    \n",
        "    i = 0\n",
        "    for label, class_name in enumerate(dataset):\n",
        "        \n",
        "        # For each file\n",
        "        for f in dataset[class_name]:\n",
        "            \n",
        "            # Read all text in file\n",
        "            text = ' '.join(f).split(' ')\n",
        "            \n",
        "            # For each word\n",
        "            for word in text:\n",
        "                if word in valid_words:\n",
        "                    bow_representation[i, valid_words[word]] += 1\n",
        "            \n",
        "            # Label of document\n",
        "            labels[i] = label\n",
        "            \n",
        "            # Increment document counter\n",
        "            i += 1\n",
        "    \n",
        "    return bow_representation, labels\n",
        "\n",
        "# Convert the dataset into their bag of words representation treating train and test separately\n",
        "train_bow_set, train_bow_labels = convert_to_BoW(train_set, n_train)\n",
        "test_bow_set, test_bow_labels = convert_to_BoW(test_set, n_test)"
      ],
      "execution_count": 0,
      "outputs": []
    },
    {
      "metadata": {
        "id": "tJAVDaPtiFCv",
        "colab_type": "text"
      },
      "cell_type": "markdown",
      "source": [
        "# 3. Using performance metrics"
      ]
    },
    {
      "metadata": {
        "id": "hrs_bVWhDTqy",
        "colab_type": "text"
      },
      "cell_type": "markdown",
      "source": [
        "## 3.1 Document classification using Word2Vec\n",
        "\n",
        "For the test documents, use your favorite distance metric (Cosine, Eucilidean, etc.) to find similar news articles from your training set and classify using kNN."
      ]
    },
    {
      "metadata": {
        "id": "lhGbqmGYWX3k",
        "colab_type": "code",
        "colab": {}
      },
      "cell_type": "code",
      "source": [
        "from sklearn.neighbors import KNeighborsClassifier"
      ],
      "execution_count": 0,
      "outputs": []
    },
    {
      "metadata": {
        "id": "VaUD0G5QWmls",
        "colab_type": "code",
        "colab": {}
      },
      "cell_type": "code",
      "source": [
        "neigh = KNeighborsClassifier(n_neighbors=3)\n",
        "neigh.fit(train_w2v_set, train_w2v_labels)"
      ],
      "execution_count": 0,
      "outputs": []
    },
    {
      "metadata": {
        "id": "7Wlk0vKXW3Q_",
        "colab_type": "code",
        "colab": {}
      },
      "cell_type": "code",
      "source": [
        "predicted_value = neigh.predict(test_w2v_set)"
      ],
      "execution_count": 0,
      "outputs": []
    },
    {
      "metadata": {
        "id": "fpsGiz45XQ6X",
        "colab_type": "code",
        "colab": {}
      },
      "cell_type": "code",
      "source": [
        "from sklearn.metrics import accuracy_score"
      ],
      "execution_count": 0,
      "outputs": []
    },
    {
      "metadata": {
        "id": "Dyk-FTCiXSBX",
        "colab_type": "code",
        "colab": {}
      },
      "cell_type": "code",
      "source": [
        "accuracy_score(test_w2v_labels,predicted_value)"
      ],
      "execution_count": 0,
      "outputs": []
    },
    {
      "metadata": {
        "colab_type": "text",
        "id": "QAfYqPo7kqmq"
      },
      "cell_type": "markdown",
      "source": [
        "#### Precision"
      ]
    },
    {
      "metadata": {
        "colab_type": "code",
        "id": "XR_QBRVHkqmv",
        "colab": {}
      },
      "cell_type": "code",
      "source": [
        "from sklearn.metrics import precision_score\n",
        "precision_score(test_w2v_labels, predicted_value,average='macro') "
      ],
      "execution_count": 0,
      "outputs": []
    },
    {
      "metadata": {
        "colab_type": "text",
        "id": "kYQ2kSqzkqm3"
      },
      "cell_type": "markdown",
      "source": [
        "### Recall\n"
      ]
    },
    {
      "metadata": {
        "colab_type": "code",
        "id": "cJxThHQVkqm9",
        "colab": {}
      },
      "cell_type": "code",
      "source": [
        "from sklearn.metrics import recall_score\n",
        "recall_score(test_w2v_labels, predicted_value,average='macro') "
      ],
      "execution_count": 0,
      "outputs": []
    },
    {
      "metadata": {
        "colab_type": "text",
        "id": "8ktTImr3kqnW"
      },
      "cell_type": "markdown",
      "source": [
        "#### Classification Report"
      ]
    },
    {
      "metadata": {
        "colab_type": "code",
        "id": "9J6qTdOpkqnY",
        "colab": {}
      },
      "cell_type": "code",
      "source": [
        "from sklearn.metrics import classification_report"
      ],
      "execution_count": 0,
      "outputs": []
    },
    {
      "metadata": {
        "colab_type": "code",
        "id": "jAZQGL7Jkqnc",
        "colab": {}
      },
      "cell_type": "code",
      "source": [
        "print(classification_report(test_w2v_labels,predicted_value))"
      ],
      "execution_count": 0,
      "outputs": []
    },
    {
      "metadata": {
        "colab_type": "code",
        "id": "lpdiOhd7kqng",
        "colab": {}
      },
      "cell_type": "code",
      "source": [
        "import seaborn as sns; sns.set()\n",
        "from sklearn.metrics import confusion_matrix\n",
        "matW2V = confusion_matrix(test_w2v_labels, predicted_value)"
      ],
      "execution_count": 0,
      "outputs": []
    },
    {
      "metadata": {
        "colab_type": "code",
        "id": "oE0qibAqkqnj",
        "colab": {}
      },
      "cell_type": "code",
      "source": [
        "dist_labelsW2V=np.asarray(list(set(test_w2v_labels.flatten().astype(int))))"
      ],
      "execution_count": 0,
      "outputs": []
    },
    {
      "metadata": {
        "colab_type": "text",
        "id": "99aAmFWckqn3"
      },
      "cell_type": "markdown",
      "source": [
        "#### Confusion matrix"
      ]
    },
    {
      "metadata": {
        "colab_type": "code",
        "id": "OLZVBSRCkqn4",
        "colab": {}
      },
      "cell_type": "code",
      "source": [
        "sns.heatmap(matW2V.T, square=True, annot=True, fmt='d', cbar=False,\n",
        "            xticklabels=dist_labelsW2V,\n",
        "            yticklabels=dist_labelsW2V)\n",
        "plt.xlabel('true label')\n",
        "plt.ylabel('predicted label');"
      ],
      "execution_count": 0,
      "outputs": []
    },
    {
      "metadata": {
        "id": "7Z_FYG9rdNPY",
        "colab_type": "text"
      },
      "cell_type": "markdown",
      "source": [
        "## 3.2 Document classification using Bag-of-Words\n",
        "\n"
      ]
    },
    {
      "metadata": {
        "id": "FP_MCK14gPqo",
        "colab_type": "code",
        "colab": {}
      },
      "cell_type": "code",
      "source": [
        "from sklearn.neighbors import KNeighborsClassifier\n",
        "model = KNeighborsClassifier(n_neighbors=5, metric='euclidean')\n",
        "model.fit(train_bow_set, train_bow_labels)"
      ],
      "execution_count": 0,
      "outputs": []
    },
    {
      "metadata": {
        "id": "5hI_sNMZgUkD",
        "colab_type": "code",
        "colab": {}
      },
      "cell_type": "code",
      "source": [
        "pred = model.predict(test_bow_set)"
      ],
      "execution_count": 0,
      "outputs": []
    },
    {
      "metadata": {
        "id": "ozuXRWk9gVE1",
        "colab_type": "text"
      },
      "cell_type": "markdown",
      "source": [
        "Computing accuracy for the bag-of-words features on the full test set:\n"
      ]
    },
    {
      "metadata": {
        "id": "EY0ofgf4gdeH",
        "colab_type": "code",
        "colab": {}
      },
      "cell_type": "code",
      "source": [
        "from sklearn.metrics import accuracy_score\n",
        "accuracy_score(test_bow_labels, pred)"
      ],
      "execution_count": 0,
      "outputs": []
    },
    {
      "metadata": {
        "id": "YDc84enUiqmn",
        "colab_type": "text"
      },
      "cell_type": "markdown",
      "source": [
        "#### Precision"
      ]
    },
    {
      "metadata": {
        "id": "jeUJBGIhbA5b",
        "colab_type": "code",
        "colab": {}
      },
      "cell_type": "code",
      "source": [
        "from sklearn.metrics import precision_score\n",
        "precision_score(test_w2v_labels, pred,average='macro') "
      ],
      "execution_count": 0,
      "outputs": []
    },
    {
      "metadata": {
        "id": "CnhhydtOi1dc",
        "colab_type": "text"
      },
      "cell_type": "markdown",
      "source": [
        "### Recall\n"
      ]
    },
    {
      "metadata": {
        "id": "pqxhoKfTi416",
        "colab_type": "code",
        "colab": {}
      },
      "cell_type": "code",
      "source": [
        "from sklearn.metrics import recall_score\n",
        "recall_score(test_bow_labels, pred,average='macro') "
      ],
      "execution_count": 0,
      "outputs": []
    },
    {
      "metadata": {
        "id": "TBn2Ken3i8ZN",
        "colab_type": "text"
      },
      "cell_type": "markdown",
      "source": [
        "#### Classification Report"
      ]
    },
    {
      "metadata": {
        "id": "U32PV6yNi_gv",
        "colab_type": "code",
        "colab": {}
      },
      "cell_type": "code",
      "source": [
        "from sklearn.metrics import classification_report"
      ],
      "execution_count": 0,
      "outputs": []
    },
    {
      "metadata": {
        "id": "oMuACNMZjCQ0",
        "colab_type": "code",
        "colab": {}
      },
      "cell_type": "code",
      "source": [
        "print(classification_report(test_bow_labels,pred))"
      ],
      "execution_count": 0,
      "outputs": []
    },
    {
      "metadata": {
        "id": "nX8DVOj-jFXw",
        "colab_type": "code",
        "colab": {}
      },
      "cell_type": "code",
      "source": [
        "import seaborn as sns; sns.set()\n",
        "from sklearn.metrics import confusion_matrix\n",
        "mat = confusion_matrix(test_bow_labels, pred)"
      ],
      "execution_count": 0,
      "outputs": []
    },
    {
      "metadata": {
        "id": "0EbCIMpYjLu0",
        "colab_type": "code",
        "colab": {}
      },
      "cell_type": "code",
      "source": [
        "dist_labels=np.asarray(list(set(test_bow_labels.flatten().astype(int))))"
      ],
      "execution_count": 0,
      "outputs": []
    },
    {
      "metadata": {
        "id": "oCQum_DKjXua",
        "colab_type": "text"
      },
      "cell_type": "markdown",
      "source": [
        "#### Confusion matrix"
      ]
    },
    {
      "metadata": {
        "id": "nFkQTqm8jPL3",
        "colab_type": "code",
        "colab": {}
      },
      "cell_type": "code",
      "source": [
        "sns.heatmap(mat.T, square=True, annot=True, fmt='d', cbar=False,\n",
        "            xticklabels=dist_labels,\n",
        "            yticklabels=dist_labels)\n",
        "plt.xlabel('true label')\n",
        "plt.ylabel('predicted label');"
      ],
      "execution_count": 0,
      "outputs": []
    },
    {
      "metadata": {
        "id": "8YIha6yMtyuu",
        "colab_type": "text"
      },
      "cell_type": "markdown",
      "source": [
        "### Please answer the questions below to complete the experiment:"
      ]
    },
    {
      "metadata": {
        "id": "SLMuQ3eOnHQ4",
        "colab_type": "code",
        "colab": {}
      },
      "cell_type": "code",
      "source": [
        "#@title Say I have a precision of 80% and a recall of 15%. if I could modify my system so the precision is 70% but the recall is 20%, in the latter case F-score would be higher? { run: \"auto\", form-width: \"500px\", display-mode: \"form\" }\n",
        "Answer = \"\" #@param [\"True\",\"False\"]\n"
      ],
      "execution_count": 0,
      "outputs": []
    },
    {
      "metadata": {
        "id": "N7IGEVYztuqt",
        "colab_type": "code",
        "colab": {}
      },
      "cell_type": "code",
      "source": [
        "#@title How was the experiment? { run: \"auto\", form-width: \"500px\", display-mode: \"form\" }\n",
        "Complexity = \"\" #@param [\"Too Simple, I am wasting time\", \"Good, But Not Challenging for me\", \"Good and Challenging me\", \"Was Tough, but I did it\", \"Too Difficult for me\"]\n"
      ],
      "execution_count": 0,
      "outputs": []
    },
    {
      "metadata": {
        "id": "_W8f70N9t1ej",
        "colab_type": "code",
        "colab": {}
      },
      "cell_type": "code",
      "source": [
        "#@title If it was very easy, what more you would have liked to have been added? If it was very difficult, what would you have liked to have been removed? { run: \"auto\", display-mode: \"form\" }\n",
        "Additional = \"\" #@param {type:\"string\"}"
      ],
      "execution_count": 0,
      "outputs": []
    },
    {
      "metadata": {
        "id": "hKI_65_Zt31W",
        "colab_type": "code",
        "colab": {}
      },
      "cell_type": "code",
      "source": [
        "#@title Can you identify the concepts from the lecture which this experiment covered? { run: \"auto\", vertical-output: true, display-mode: \"form\" }\n",
        "Concepts = \"Yes\" #@param [\"Yes\", \"No\"]"
      ],
      "execution_count": 0,
      "outputs": []
    },
    {
      "metadata": {
        "id": "x1RNSXbVuKcP",
        "colab_type": "code",
        "cellView": "form",
        "colab": {}
      },
      "cell_type": "code",
      "source": [
        "#@title Run this cell to submit your notebook for grading { vertical-output: true }\n",
        "try:\n",
        "  if submission_id:\n",
        "      return_id = submit_notebook()\n",
        "      if return_id : submission_id =return_id\n",
        "  else:\n",
        "      print(\"Please complete the setup first.\")\n",
        "except NameError:\n",
        "  print (\"Please complete the setup first.\")"
      ],
      "execution_count": 0,
      "outputs": []
    },
    {
      "metadata": {
        "id": "gUVfXzgmnMVu",
        "colab_type": "code",
        "colab": {}
      },
      "cell_type": "code",
      "source": [
        ""
      ],
      "execution_count": 0,
      "outputs": []
    }
  ]
}